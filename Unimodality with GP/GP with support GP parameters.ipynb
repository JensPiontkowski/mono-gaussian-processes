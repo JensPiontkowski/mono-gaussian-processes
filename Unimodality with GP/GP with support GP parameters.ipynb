{
 "cells": [
  {
   "cell_type": "code",
   "execution_count": 18,
   "metadata": {},
   "outputs": [
    {
     "data": {
      "text/html": [
       "<style>.container { width:100% !important; }</style>"
      ],
      "text/plain": [
       "<IPython.core.display.HTML object>"
      ]
     },
     "metadata": {},
     "output_type": "display_data"
    }
   ],
   "source": [
    "from IPython.core.display import display, HTML\n",
    "display(HTML(\"<style>.container { width:100% !important; }</style>\"))"
   ]
  },
  {
   "cell_type": "code",
   "execution_count": 19,
   "metadata": {},
   "outputs": [],
   "source": [
    "import pystan\n",
    "import numpy as np\n",
    "import matplotlib.pyplot as plt\n",
    "import scipy\n",
    "from sklearn import preprocessing\n",
    "import pickle\n",
    "from hashlib import md5\n",
    "import time\n",
    "import os\n",
    "\n",
    "def StanModel_cache(model_code, model_name=None, **kwargs):\n",
    "    \"\"\"Use just as you would `stan`\"\"\"\n",
    "    path = \"../Stan files/pkl_cache\"\n",
    "    if(os.path.isdir(path)==False):\n",
    "        os.makedirs(path)\n",
    "    \n",
    "    code_hash = md5(model_code.encode('ascii')).hexdigest()\n",
    "    if model_name is None:\n",
    "        cache_fn = '{}/cached-model-{}.pkl'.format(path,code_hash)\n",
    "    else:\n",
    "        cache_fn = '{}/cached-{}-{}.pkl'.format(path,model_name, code_hash)\n",
    "    try:\n",
    "        sm = pickle.load(open(cache_fn, 'rb'))\n",
    "    except:\n",
    "        sm = pystan.StanModel(model_code=model_code,**kwargs)\n",
    "        with open(cache_fn, 'wb') as f:\n",
    "            pickle.dump(sm, f)\n",
    "    else:\n",
    "        print(\"Using cached StanModel\")\n",
    "    return sm"
   ]
  },
  {
   "cell_type": "code",
   "execution_count": 20,
   "metadata": {},
   "outputs": [
    {
     "name": "stdout",
     "output_type": "stream",
     "text": [
      "Using cached StanModel\n"
     ]
    }
   ],
   "source": [
    "prior_model = StanModel_cache(model_code=open(\"../Stan files/prior.stan\").read())"
   ]
  },
  {
   "cell_type": "code",
   "execution_count": 21,
   "metadata": {},
   "outputs": [
    {
     "name": "stdout",
     "output_type": "stream",
     "text": [
      "Using cached StanModel\n"
     ]
    }
   ],
   "source": [
    "prior_supp_GP_model = StanModel_cache(model_code=open(\"../Stan files/prior with support GP.stan\").read())"
   ]
  },
  {
   "cell_type": "code",
   "execution_count": 22,
   "metadata": {},
   "outputs": [],
   "source": [
    "N = 20\n",
    "xp = np.linspace(-10,4,N)\n",
    "m_m = np.ones_like(xp,dtype=int)\n",
    "v_value = 0.00001\n",
    "\n",
    "prior_data = dict(\n",
    "    N = N,\n",
    "    x = xp\n",
    ")\n",
    "\n",
    "\n",
    "prior_supp_GP_data = dict(\n",
    "    N = N,\n",
    "    x = xp,\n",
    "    N_g = N,\n",
    "    x_g = xp,\n",
    "    m_m = m_m,\n",
    "    v = v_value\n",
    ")\n"
   ]
  },
  {
   "cell_type": "markdown",
   "metadata": {},
   "source": [
    "N_g = 70\n",
    "x_g = np.linspace(-10,10,N_g)\n"
   ]
  },
  {
   "cell_type": "code",
   "execution_count": null,
   "metadata": {},
   "outputs": [],
   "source": []
  },
  {
   "cell_type": "code",
   "execution_count": 23,
   "metadata": {},
   "outputs": [
    {
     "name": "stdout",
     "output_type": "stream",
     "text": [
      "Inference for Stan model: anon_model_3bae6f2cd95a089131f919a5ecffb2c9.\n",
      "1 chains, each with iter=1000; warmup=500; thin=1; \n",
      "post-warmup draws per chain=500, total post-warmup draws=500.\n",
      "\n",
      "          mean se_mean     sd   2.5%    25%    50%    75%  97.5%  n_eff   Rhat\n",
      "rho       1.29    0.04   0.76    0.5   0.79   1.09   1.55   3.41  313.0    1.0\n",
      "alpha     0.78    0.03   0.58   0.05   0.31   0.66   1.13    2.2  500.0    1.0\n",
      "eta[0]  4.8e-3    0.04   0.97  -1.89  -0.64  -0.04   0.66   1.94  500.0    1.0\n",
      "eta[1]    0.02    0.04   0.96  -1.78  -0.68   0.03   0.66   1.72  500.0   1.01\n",
      "eta[2] -6.3e-3    0.04   0.99  -1.74  -0.73  -0.03   0.72   1.94  500.0    1.0\n",
      "eta[3]   -0.05    0.05   1.11   -2.2  -0.86  -0.04   0.72   2.22  500.0    1.0\n",
      "eta[4]  7.4e-3    0.04   0.98  -1.93  -0.68   0.06   0.65   1.88  500.0    1.0\n",
      "eta[5]  5.4e-3    0.05   1.03  -2.24  -0.64-7.0e-3   0.67   1.96  500.0   1.01\n",
      "eta[6]    0.02    0.05   1.01  -2.01   -0.6   0.05   0.71   1.98  500.0    1.0\n",
      "eta[7]   -0.01    0.04   0.99   -1.8  -0.74  -0.06   0.71   1.88  500.0    1.0\n",
      "eta[8]    0.05    0.05   1.03  -1.91  -0.64   0.05   0.69   2.21  500.0    1.0\n",
      "eta[9]    0.04    0.04   0.95  -1.82   -0.6   0.08   0.65   1.91  500.0    1.0\n",
      "eta[10]  -0.06    0.05   1.02  -2.04   -0.8  -0.04   0.65   1.88  500.0    1.0\n",
      "eta[11]   0.02    0.04   0.92   -1.9  -0.55-3.4e-3   0.59   1.89  500.0    1.0\n",
      "eta[12]    0.1    0.04   0.98  -1.95  -0.55   0.13   0.81   1.86  500.0    1.0\n",
      "eta[13]  -0.05    0.05   1.05  -2.09  -0.74  -0.07   0.61   2.03  500.0    1.0\n",
      "eta[14]   0.06    0.04   0.96  -1.95  -0.63   0.02   0.75   2.02  500.0    1.0\n",
      "eta[15]  -0.05    0.04   0.96  -1.97   -0.7  -0.03   0.61   1.97  500.0    1.0\n",
      "eta[16]  -0.03    0.04   0.98  -1.87  -0.67  -0.06   0.59   1.88  500.0   1.01\n",
      "eta[17]  -0.04    0.04   0.98  -2.16   -0.7  -0.01   0.66   1.78  500.0    1.0\n",
      "eta[18]   0.02    0.04   0.97  -1.87  -0.64   0.05   0.74   1.88  500.0    1.0\n",
      "eta[19]-8.0e-3    0.04   0.95  -1.71  -0.67  -0.04   0.64    1.9  500.0    1.0\n",
      "f[0]   -6.9e-4    0.05   0.94  -2.25  -0.32-7.5e-3   0.37   1.91  413.0    1.0\n",
      "f[1]    9.6e-3    0.04   0.88  -2.26  -0.31 6.0e-3   0.39   1.79  422.0    1.0\n",
      "f[2]      0.02    0.05   0.93  -2.25  -0.27-1.2e-3   0.33   1.97  415.0    1.0\n",
      "f[3]   -1.2e-3    0.04   0.91  -2.08  -0.31-6.8e-3   0.36   1.88  500.0    1.0\n",
      "f[4]    5.3e-3    0.04   0.99  -2.28  -0.38   0.02   0.34   2.01  500.0    1.0\n",
      "f[5]      0.02    0.05   0.95  -2.27   -0.3   0.02   0.37   2.06  404.0    1.0\n",
      "f[6]     -0.03    0.04   0.94  -2.27  -0.41 5.5e-3   0.33   2.03  500.0    1.0\n",
      "f[7]    3.7e-3    0.04   0.98  -2.08  -0.41-6.7e-3   0.33   2.34  500.0    1.0\n",
      "f[8]      0.05    0.05   1.02  -2.02  -0.36 7.2e-3   0.38   2.57  500.0    1.0\n",
      "f[9]      0.03    0.04   0.98  -1.87  -0.36   0.02    0.4   2.02  500.0    1.0\n",
      "f[10]    -0.04    0.05   0.93  -1.91  -0.37-8.0e-3   0.37   1.71  343.0    1.0\n",
      "f[11]    -0.02    0.05   0.91  -2.07  -0.34-2.2e-3   0.33   1.75  349.0    1.0\n",
      "f[12]  -7.8e-3    0.04   0.84  -2.04  -0.32 6.2e-3   0.31   1.99  500.0    1.0\n",
      "f[13]    -0.02    0.04   0.85  -2.31  -0.31-5.7e-4   0.29   1.68  500.0    1.0\n",
      "f[14]     0.01    0.04   0.85  -1.87  -0.31-1.9e-3   0.32   1.77  500.0    1.0\n",
      "f[15]  -1.9e-3    0.04   0.82  -1.89  -0.36 2.2e-3   0.35   1.88  500.0    1.0\n",
      "f[16]  -7.3e-3    0.04   0.84  -2.09  -0.31  -0.01   0.31   1.74  500.0    1.0\n",
      "f[17]   4.3e-3    0.04   0.88  -2.06  -0.33-4.0e-3   0.36   2.04  500.0    1.0\n",
      "f[18]     0.02    0.04    0.9   -2.0  -0.29-5.0e-3   0.38   2.01  452.0    1.0\n",
      "f[19]   6.1e-3    0.04   0.86  -1.85  -0.34-9.1e-3   0.33   1.82  500.0    1.0\n",
      "lp__    -16.41    0.25   3.14  -23.3 -18.06 -16.13 -14.27 -11.24  157.0   1.01\n",
      "\n",
      "Samples were drawn using NUTS at Wed Feb  7 17:09:11 2018.\n",
      "For each parameter, n_eff is a crude measure of effective sample size,\n",
      "and Rhat is the potential scale reduction factor on split chains (at \n",
      "convergence, Rhat=1).\n"
     ]
    }
   ],
   "source": [
    "prior_fit = prior_model.sampling(data=prior_data,iter=1000,chains=1)\n",
    "print(prior_fit)"
   ]
  },
  {
   "cell_type": "code",
   "execution_count": 24,
   "metadata": {},
   "outputs": [],
   "source": [
    "prior_arr = prior_fit.extract(permuted=True)\n",
    "prior = prior_arr['f']"
   ]
  },
  {
   "cell_type": "markdown",
   "metadata": {},
   "source": [
    "#### Note:Sampling prior with GP support shows initialization failed often ####"
   ]
  },
  {
   "cell_type": "code",
   "execution_count": 25,
   "metadata": {},
   "outputs": [
    {
     "ename": "RuntimeError",
     "evalue": "Initialization failed.",
     "output_type": "error",
     "traceback": [
      "\u001b[0;31m---------------------------------------------------------------------------\u001b[0m",
      "\u001b[0;31mRuntimeError\u001b[0m                              Traceback (most recent call last)",
      "\u001b[0;32m<ipython-input-25-63f6fcb31600>\u001b[0m in \u001b[0;36m<module>\u001b[0;34m()\u001b[0m\n\u001b[0;32m----> 1\u001b[0;31m \u001b[0muni_prior_fit\u001b[0m \u001b[0;34m=\u001b[0m \u001b[0mprior_supp_GP_model\u001b[0m\u001b[0;34m.\u001b[0m\u001b[0msampling\u001b[0m\u001b[0;34m(\u001b[0m\u001b[0mdata\u001b[0m\u001b[0;34m=\u001b[0m\u001b[0mprior_supp_GP_data\u001b[0m\u001b[0;34m,\u001b[0m\u001b[0miter\u001b[0m\u001b[0;34m=\u001b[0m\u001b[0;36m2000\u001b[0m\u001b[0;34m,\u001b[0m\u001b[0mchains\u001b[0m\u001b[0;34m=\u001b[0m\u001b[0;36m1\u001b[0m\u001b[0;34m)\u001b[0m\u001b[0;34m\u001b[0m\u001b[0m\n\u001b[0m\u001b[1;32m      2\u001b[0m \u001b[0;32mprint\u001b[0m\u001b[0;34m(\u001b[0m\u001b[0muni_prior_fit\u001b[0m\u001b[0;34m)\u001b[0m\u001b[0;34m\u001b[0m\u001b[0m\n",
      "\u001b[0;32m/u/26/pais2/unix/.local/lib/python2.7/site-packages/pystan/model.pyc\u001b[0m in \u001b[0;36msampling\u001b[0;34m(self, data, pars, chains, iter, warmup, thin, seed, init, sample_file, diagnostic_file, verbose, algorithm, control, n_jobs, **kwargs)\u001b[0m\n\u001b[1;32m    724\u001b[0m         \u001b[0mcall_sampler_args\u001b[0m \u001b[0;34m=\u001b[0m \u001b[0mizip\u001b[0m\u001b[0;34m(\u001b[0m\u001b[0mitertools\u001b[0m\u001b[0;34m.\u001b[0m\u001b[0mrepeat\u001b[0m\u001b[0;34m(\u001b[0m\u001b[0mdata\u001b[0m\u001b[0;34m)\u001b[0m\u001b[0;34m,\u001b[0m \u001b[0margs_list\u001b[0m\u001b[0;34m,\u001b[0m \u001b[0mitertools\u001b[0m\u001b[0;34m.\u001b[0m\u001b[0mrepeat\u001b[0m\u001b[0;34m(\u001b[0m\u001b[0mpars\u001b[0m\u001b[0;34m)\u001b[0m\u001b[0;34m)\u001b[0m\u001b[0;34m\u001b[0m\u001b[0m\n\u001b[1;32m    725\u001b[0m         \u001b[0mcall_sampler_star\u001b[0m \u001b[0;34m=\u001b[0m \u001b[0mself\u001b[0m\u001b[0;34m.\u001b[0m\u001b[0mmodule\u001b[0m\u001b[0;34m.\u001b[0m\u001b[0m_call_sampler_star\u001b[0m\u001b[0;34m\u001b[0m\u001b[0m\n\u001b[0;32m--> 726\u001b[0;31m         \u001b[0mret_and_samples\u001b[0m \u001b[0;34m=\u001b[0m \u001b[0m_map_parallel\u001b[0m\u001b[0;34m(\u001b[0m\u001b[0mcall_sampler_star\u001b[0m\u001b[0;34m,\u001b[0m \u001b[0mcall_sampler_args\u001b[0m\u001b[0;34m,\u001b[0m \u001b[0mn_jobs\u001b[0m\u001b[0;34m)\u001b[0m\u001b[0;34m\u001b[0m\u001b[0m\n\u001b[0m\u001b[1;32m    727\u001b[0m         \u001b[0msamples\u001b[0m \u001b[0;34m=\u001b[0m \u001b[0;34m[\u001b[0m\u001b[0msmpl\u001b[0m \u001b[0;32mfor\u001b[0m \u001b[0m_\u001b[0m\u001b[0;34m,\u001b[0m \u001b[0msmpl\u001b[0m \u001b[0;32min\u001b[0m \u001b[0mret_and_samples\u001b[0m\u001b[0;34m]\u001b[0m\u001b[0;34m\u001b[0m\u001b[0m\n\u001b[1;32m    728\u001b[0m \u001b[0;34m\u001b[0m\u001b[0m\n",
      "\u001b[0;32m/u/26/pais2/unix/.local/lib/python2.7/site-packages/pystan/model.pyc\u001b[0m in \u001b[0;36m_map_parallel\u001b[0;34m(function, args, n_jobs)\u001b[0m\n\u001b[1;32m     84\u001b[0m             \u001b[0mpool\u001b[0m\u001b[0;34m.\u001b[0m\u001b[0mjoin\u001b[0m\u001b[0;34m(\u001b[0m\u001b[0;34m)\u001b[0m\u001b[0;34m\u001b[0m\u001b[0m\n\u001b[1;32m     85\u001b[0m     \u001b[0;32melse\u001b[0m\u001b[0;34m:\u001b[0m\u001b[0;34m\u001b[0m\u001b[0m\n\u001b[0;32m---> 86\u001b[0;31m         \u001b[0mmap_result\u001b[0m \u001b[0;34m=\u001b[0m \u001b[0mlist\u001b[0m\u001b[0;34m(\u001b[0m\u001b[0mmap\u001b[0m\u001b[0;34m(\u001b[0m\u001b[0mfunction\u001b[0m\u001b[0;34m,\u001b[0m \u001b[0margs\u001b[0m\u001b[0;34m)\u001b[0m\u001b[0;34m)\u001b[0m\u001b[0;34m\u001b[0m\u001b[0m\n\u001b[0m\u001b[1;32m     87\u001b[0m     \u001b[0;32mreturn\u001b[0m \u001b[0mmap_result\u001b[0m\u001b[0;34m\u001b[0m\u001b[0m\n\u001b[1;32m     88\u001b[0m \u001b[0;34m\u001b[0m\u001b[0m\n",
      "\u001b[0;32mstanfit4anon_model_6d5a10ea992c345bd8b35dc7a09d8086_703149408111004439.pyx\u001b[0m in \u001b[0;36mstanfit4anon_model_6d5a10ea992c345bd8b35dc7a09d8086_703149408111004439._call_sampler_star (/tmp/tmpvBVnob/stanfit4anon_model_6d5a10ea992c345bd8b35dc7a09d8086_703149408111004439.cpp:7940)\u001b[0;34m()\u001b[0m\n",
      "\u001b[0;32mstanfit4anon_model_6d5a10ea992c345bd8b35dc7a09d8086_703149408111004439.pyx\u001b[0m in \u001b[0;36mstanfit4anon_model_6d5a10ea992c345bd8b35dc7a09d8086_703149408111004439._call_sampler (/tmp/tmpvBVnob/stanfit4anon_model_6d5a10ea992c345bd8b35dc7a09d8086_703149408111004439.cpp:8580)\u001b[0;34m()\u001b[0m\n",
      "\u001b[0;31mRuntimeError\u001b[0m: Initialization failed."
     ]
    }
   ],
   "source": [
    "uni_prior_fit = prior_supp_GP_model.sampling(data=prior_supp_GP_data,iter=2000,chains=1)\n",
    "print(uni_prior_fit)"
   ]
  },
  {
   "cell_type": "code",
   "execution_count": 26,
   "metadata": {},
   "outputs": [
    {
     "ename": "NameError",
     "evalue": "name 'uni_prior_fit' is not defined",
     "output_type": "error",
     "traceback": [
      "\u001b[0;31m---------------------------------------------------------------------------\u001b[0m",
      "\u001b[0;31mNameError\u001b[0m                                 Traceback (most recent call last)",
      "\u001b[0;32m<ipython-input-26-a46b929c745b>\u001b[0m in \u001b[0;36m<module>\u001b[0;34m()\u001b[0m\n\u001b[0;32m----> 1\u001b[0;31m \u001b[0muni_prior_arr\u001b[0m \u001b[0;34m=\u001b[0m \u001b[0muni_prior_fit\u001b[0m\u001b[0;34m.\u001b[0m\u001b[0mextract\u001b[0m\u001b[0;34m(\u001b[0m\u001b[0mpermuted\u001b[0m\u001b[0;34m=\u001b[0m\u001b[0mTrue\u001b[0m\u001b[0;34m)\u001b[0m\u001b[0;34m\u001b[0m\u001b[0m\n\u001b[0m\u001b[1;32m      2\u001b[0m \u001b[0msim_uni_prior\u001b[0m \u001b[0;34m=\u001b[0m \u001b[0muni_prior_arr\u001b[0m\u001b[0;34m[\u001b[0m\u001b[0;34m'f'\u001b[0m\u001b[0;34m]\u001b[0m\u001b[0;34m\u001b[0m\u001b[0m\n\u001b[1;32m      3\u001b[0m \u001b[0msim_uni_param\u001b[0m \u001b[0;34m=\u001b[0m \u001b[0muni_prior_arr\u001b[0m\u001b[0;34m[\u001b[0m\u001b[0;34m'm'\u001b[0m\u001b[0;34m]\u001b[0m\u001b[0;34m\u001b[0m\u001b[0m\n",
      "\u001b[0;31mNameError\u001b[0m: name 'uni_prior_fit' is not defined"
     ]
    }
   ],
   "source": [
    "uni_prior_arr = uni_prior_fit.extract(permuted=True)\n",
    "sim_uni_prior = uni_prior_arr['f']\n",
    "sim_uni_param = uni_prior_arr['m']"
   ]
  },
  {
   "cell_type": "code",
   "execution_count": 27,
   "metadata": {},
   "outputs": [
    {
     "ename": "NameError",
     "evalue": "name 'sim_uni_prior' is not defined",
     "output_type": "error",
     "traceback": [
      "\u001b[0;31m---------------------------------------------------------------------------\u001b[0m",
      "\u001b[0;31mNameError\u001b[0m                                 Traceback (most recent call last)",
      "\u001b[0;32m<ipython-input-27-c314716e7739>\u001b[0m in \u001b[0;36m<module>\u001b[0;34m()\u001b[0m\n\u001b[0;32m----> 1\u001b[0;31m \u001b[0mp\u001b[0m \u001b[0;34m=\u001b[0m \u001b[0mnp\u001b[0m\u001b[0;34m.\u001b[0m\u001b[0mrandom\u001b[0m\u001b[0;34m.\u001b[0m\u001b[0mrandint\u001b[0m\u001b[0;34m(\u001b[0m\u001b[0msim_uni_prior\u001b[0m\u001b[0;34m.\u001b[0m\u001b[0mshape\u001b[0m\u001b[0;34m[\u001b[0m\u001b[0;36m0\u001b[0m\u001b[0;34m]\u001b[0m\u001b[0;34m,\u001b[0m\u001b[0msize\u001b[0m\u001b[0;34m=\u001b[0m\u001b[0;36m3\u001b[0m\u001b[0;34m)\u001b[0m\u001b[0;34m\u001b[0m\u001b[0m\n\u001b[0m\u001b[1;32m      2\u001b[0m \u001b[0mpp\u001b[0m \u001b[0;34m=\u001b[0m \u001b[0mnp\u001b[0m\u001b[0;34m.\u001b[0m\u001b[0mrandom\u001b[0m\u001b[0;34m.\u001b[0m\u001b[0mrandint\u001b[0m\u001b[0;34m(\u001b[0m\u001b[0mprior\u001b[0m\u001b[0;34m.\u001b[0m\u001b[0mshape\u001b[0m\u001b[0;34m[\u001b[0m\u001b[0;36m0\u001b[0m\u001b[0;34m]\u001b[0m\u001b[0;34m,\u001b[0m\u001b[0msize\u001b[0m\u001b[0;34m=\u001b[0m\u001b[0;36m3\u001b[0m\u001b[0;34m)\u001b[0m\u001b[0;34m\u001b[0m\u001b[0m\n\u001b[1;32m      3\u001b[0m \u001b[0mpr_q5\u001b[0m \u001b[0;34m=\u001b[0m \u001b[0mnp\u001b[0m\u001b[0;34m.\u001b[0m\u001b[0mpercentile\u001b[0m\u001b[0;34m(\u001b[0m\u001b[0mprior\u001b[0m\u001b[0;34m,\u001b[0m\u001b[0;36m5\u001b[0m\u001b[0;34m,\u001b[0m\u001b[0maxis\u001b[0m\u001b[0;34m=\u001b[0m\u001b[0;36m0\u001b[0m\u001b[0;34m)\u001b[0m\u001b[0;34m\u001b[0m\u001b[0m\n\u001b[1;32m      4\u001b[0m \u001b[0mpr_q95\u001b[0m \u001b[0;34m=\u001b[0m \u001b[0mnp\u001b[0m\u001b[0;34m.\u001b[0m\u001b[0mpercentile\u001b[0m\u001b[0;34m(\u001b[0m\u001b[0mprior\u001b[0m\u001b[0;34m,\u001b[0m\u001b[0;36m95\u001b[0m\u001b[0;34m,\u001b[0m\u001b[0maxis\u001b[0m\u001b[0;34m=\u001b[0m\u001b[0;36m0\u001b[0m\u001b[0;34m)\u001b[0m\u001b[0;34m\u001b[0m\u001b[0m\n\u001b[1;32m      5\u001b[0m \u001b[0mpr_mean\u001b[0m \u001b[0;34m=\u001b[0m \u001b[0mnp\u001b[0m\u001b[0;34m.\u001b[0m\u001b[0mmean\u001b[0m\u001b[0;34m(\u001b[0m\u001b[0mprior\u001b[0m\u001b[0;34m,\u001b[0m\u001b[0maxis\u001b[0m\u001b[0;34m=\u001b[0m\u001b[0;36m0\u001b[0m\u001b[0;34m)\u001b[0m\u001b[0;34m\u001b[0m\u001b[0m\n",
      "\u001b[0;31mNameError\u001b[0m: name 'sim_uni_prior' is not defined"
     ]
    }
   ],
   "source": [
    "p = np.random.randint(sim_uni_prior.shape[0],size=3)\n",
    "pp = np.random.randint(prior.shape[0],size=3)\n",
    "pr_q5 = np.percentile(prior,5,axis=0)\n",
    "pr_q95 = np.percentile(prior,95,axis=0)\n",
    "pr_mean = np.mean(prior,axis=0)\n",
    "m_pr_q5 = np.percentile(sim_uni_prior[0:,:N],5,axis=0)\n",
    "m_pr_q95 = np.percentile(sim_uni_prior[0:,:N],95,axis=0)\n",
    "m_pr_mean = np.mean(sim_uni_prior[0:,:N],axis=0)\n",
    "\n",
    "\n",
    "\n",
    "\n",
    "plt.figure(figsize=(15,20))\n",
    "\n",
    "ax1 = plt.subplot(411)\n",
    "plt.title('Samples of prior functions without unimodality constraints')\n",
    "plt.plot(xp, prior[pp[0]], 'c')\n",
    "plt.plot(xp, prior[pp[1]], 'y')\n",
    "plt.plot(xp, prior[pp[2]], 'm')\n",
    "plt.fill_between(xp, pr_q5, pr_q95, color=\"#dddddd\",label=\"Region between 5-95 quantiles\")\n",
    "plt.plot(xp,pr_mean,'r--',lw=2,label=\"Mean\" )\n",
    "plt.legend()\n",
    "\n",
    "\n",
    "plt.subplot(412)\n",
    "plt.title('Samples of prior functions with Unimodal constraints v={}'.format(v_value))\n",
    "plt.plot(xp, sim_uni_prior[p[0]][:N], 'c')\n",
    "plt.plot(xp, sim_uni_prior[p[1]][:N], 'g')\n",
    "plt.plot(xp, sim_uni_prior[p[2]][:N], 'b')\n",
    "plt.fill_between(xp, m_pr_q5, m_pr_q95, color=\"#dddddd\")\n",
    "plt.fill_between(xp, np.percentile(sim_uni_prior[0:,:N],5,axis=0),np.percentile(sim_uni_prior[0:,:N],5,axis=0), color=\"#dddddd\")\n",
    "plt.plot(xp,m_pr_mean,'r--',lw=2,label=\"Mean\" )\n",
    "plt.legend()\n",
    "\n",
    "plt.subplot(413)\n",
    "plt.title('Derivative of prior functions with Unimodal constraits')\n",
    "plt.plot(xp, sim_uni_prior[p[0]][N:], 'c')\n",
    "plt.plot(xp, sim_uni_prior[p[1]][N:], 'g')\n",
    "plt.plot(xp, sim_uni_prior[p[2]][N:], 'b')\n",
    "plt.plot(plt.gca().get_xlim(),[0,0],'k--',alpha=0.3)\n",
    "\n",
    "\n",
    "plt.subplot(414,sharex=ax1)\n",
    "plt.title('Monotonic Gaussian process generating the slope parameter \\'m\\'')\n",
    "plt.plot(xp, sim_uni_param[p[0]][:N], 'c')\n",
    "plt.plot(xp, sim_uni_param[p[1]][:N], 'g')\n",
    "plt.plot(xp, sim_uni_param[p[1]][:N], 'b')\n",
    "plt.plot(plt.gca().get_xlim(),[0,0],'k--',alpha=0.3)\n",
    "plt.fill_between(xp, np.percentile(sim_uni_param[0:,:N],5,axis=0),np.percentile(sim_uni_param[0:,:N],5,axis=0), color=\"#dddddd\")\n",
    "plt.plot(xp,np.mean(sim_uni_param[0:,:N],axis=0),'r--',lw=2,label=\"Mean\" )\n",
    "\n",
    "plt.legend()\n",
    "\n",
    "\n",
    "\n",
    "plt.legend()\n",
    "plt.savefig(\"./Fig/%s Unimodal Prior.png\"%(time.ctime()))\n",
    "plt.show()"
   ]
  },
  {
   "cell_type": "code",
   "execution_count": null,
   "metadata": {},
   "outputs": [],
   "source": []
  },
  {
   "cell_type": "markdown",
   "metadata": {
    "collapsed": true
   },
   "source": [
    "# Posterior "
   ]
  },
  {
   "cell_type": "code",
   "execution_count": 30,
   "metadata": {},
   "outputs": [
    {
     "name": "stdout",
     "output_type": "stream",
     "text": [
      "Using cached StanModel\n"
     ]
    }
   ],
   "source": [
    "posterior_model = StanModel_cache(model_code=open(\"../Stan files/posterior.stan\").read())"
   ]
  },
  {
   "cell_type": "code",
   "execution_count": 31,
   "metadata": {},
   "outputs": [
    {
     "name": "stderr",
     "output_type": "stream",
     "text": [
      "INFO:pystan:COMPILING THE C++ CODE FOR MODEL anon_model_688c6d725793177c41cffd3e4cf0db1f NOW.\n"
     ]
    }
   ],
   "source": [
    "uni_posterior_model = StanModel_cache(model_code=open(\"../Stan files/posterior with support GP.stan\").read())"
   ]
  },
  {
   "cell_type": "code",
   "execution_count": 32,
   "metadata": {
    "scrolled": true
   },
   "outputs": [
    {
     "data": {
      "image/png": "[encoded data removed]",
      "text/plain": [
       "<matplotlib.figure.Figure at 0x7f907dd4de10>"
      ]
     },
     "metadata": {},
     "output_type": "display_data"
    }
   ],
   "source": [
    "def gaussian(x, mu, sig):\n",
    "    return 1./(np.sqrt(2.*np.pi)*sig)*np.exp(-np.power((x - mu)/sig, 2.)/2)\n",
    "\n",
    "def func(x):\n",
    "    return 1-gaussian(x,0,4) #+ gaussian(x,-5,0.4)*0.05\n",
    "\n",
    "\n",
    "leng = 60\n",
    "lendata = 42\n",
    "#lenpred = 20\n",
    "\n",
    "xdata = np.linspace(-10,4,lendata)\n",
    "ydata = func(xdata) + np.random.normal(0,0.005,size=len(xdata))\n",
    "x = np.linspace(-10,10,leng)\n",
    "y = func(x) \n",
    "#xpred = np.linspace(4,10,lenpred)\n",
    "ycombined = preprocessing.scale(np.append(ydata,y))\n",
    "ydata = ycombined[:len(xdata)]\n",
    "y = ycombined[len(xdata):]\n",
    "\n",
    "plt.figure(figsize=(10,10))\n",
    "plt.scatter(xdata,ydata,label=\"Data points\")\n",
    "plt.plot(x,y,'r--',alpha=0.5,label=\"Data generating function\")\n",
    "plt.scatter(x,np.zeros_like(x)+np.min(ycombined),label=\"Psuedo derivative locations\")\n",
    "plt.title('Input')\n",
    "\n",
    "plt.legend()\n",
    "plt.savefig(\"./Fig/%s Input data points.png\"%(time.ctime()))\n",
    "\n",
    "plt.show()"
   ]
  },
  {
   "cell_type": "code",
   "execution_count": 33,
   "metadata": {},
   "outputs": [],
   "source": [
    "sig =0.05\n",
    "v= 0.001\n",
    "\n",
    "posterior_data = dict(\n",
    "    N = len(xdata),\n",
    "    x = xdata,\n",
    "    y = ydata,\n",
    "    N_prm = len(x),\n",
    "    x_prm = x,\n",
    "    sig_var = sig\n",
    ")\n",
    "\n",
    "uni_posterior_data = dict(\n",
    "    N = len(xdata),\n",
    "    x = xdata,\n",
    "    y = ydata,\n",
    "    N_g = len(x),\n",
    "    x_g = x,\n",
    "    m_m = np.ones_like(x,dtype=int),\n",
    "    N_prm = len(x),\n",
    "    x_prm = x,\n",
    "    v = v,\n",
    "    sig_var = sig\n",
    ")"
   ]
  },
  {
   "cell_type": "code",
   "execution_count": null,
   "metadata": {},
   "outputs": [],
   "source": [
    "posterior_fit = posterior_model.sampling(data=posterior_data,iter=1000,chains=1)\n",
    "print(posterior_fit)"
   ]
  },
  {
   "cell_type": "code",
   "execution_count": null,
   "metadata": {
    "scrolled": true
   },
   "outputs": [],
   "source": [
    "uni_posterior_fit = uni_posterior_model.sampling(data=uni_posterior_data,iter=1000,chains=1)\n",
    "print(uni_posterior_fit)"
   ]
  },
  {
   "cell_type": "code",
   "execution_count": null,
   "metadata": {},
   "outputs": [],
   "source": [
    "sim_posterior = posterior_fit.extract(permuted=True)['y_prm']\n",
    "p_mean = np.mean(sim_posterior,axis=0)\n",
    "p_std = np.std(sim_posterior,axis=0)\n",
    "p_q5 = np.percentile(sim_posterior, 5, axis=0)\n",
    "p_q95 = np.percentile(sim_posterior, 95, axis=0)\n"
   ]
  },
  {
   "cell_type": "code",
   "execution_count": null,
   "metadata": {},
   "outputs": [],
   "source": [
    "uni_sim_posterior = uni_posterior_fit.extract(permuted=True)['y_prm']\n",
    "u_p_mean = np.mean(uni_sim_posterior,axis=0)\n",
    "u_p_std = np.std(uni_sim_posterior,axis=0)\n",
    "u_p_q5 = np.percentile(uni_sim_posterior, 5, axis=0)\n",
    "u_p_q95 = np.percentile(uni_sim_posterior, 95, axis=0)\n",
    "\n",
    "uni_sim_param = uni_posterior_fit.extract(permuted=True)['m']\n",
    "uni_sim_der   = uni_posterior_fit.extract(permuted=True)['f']\n"
   ]
  },
  {
   "cell_type": "code",
   "execution_count": null,
   "metadata": {},
   "outputs": [],
   "source": [
    "c = ['b', 'c', 'm', 'y']\n",
    "p = np.random.randint(sim_posterior.shape[0],size=3)\n",
    "pp = np.random.randint(uni_sim_posterior.shape[0],size=3)\n",
    "\n",
    "\n",
    "fig,ax = plt.subplots(4,1,sharex=True)\n",
    "fig.set_size_inches(10,15)\n",
    "ax[0].set_title('Posterior without unimodality sig_var={}'.format(sig))\n",
    "ax[0].plot(xdata, ydata, 'bs', ms=4,label=\"Data points\")#  \n",
    "ax[0].plot(x, sim_posterior[p[0]], c[0],alpha=0.3,label=\"posterior1\")\n",
    "ax[0].plot(x, sim_posterior[p[1]], c[1],alpha=0.3,label=\"posterior2\")\n",
    "ax[0].plot(x, sim_posterior[p[2]], c[2],alpha=0.3,label=\"posterior3\")\n",
    "ax[0].plot(x, p_mean,'r--',alpha=0.8,lw=2,label=\"mean of posterior simulations\")\n",
    "ax[0].plot(x,y,'g--',alpha=0.8,lw=2,label=\"Data generating function\")\n",
    "ax[0].fill_between(x, p_q5, p_q95, color=\"#dddddd\")\n",
    "#ax[0].legend()\n",
    "\n",
    "\n",
    "#plt.subplot(2,2,2)\n",
    "ax[1].set_title('Posterior of functions v={},sig_var={}'.format(v,sig))\n",
    "ax[1].plot(xdata, ydata, 'bs', ms=4,label=\"Data points\")#\n",
    "ax[1].fill_between(x, u_p_q5, u_p_q95, color=\"#dddddd\")\n",
    "ax[1].plot(x, uni_sim_posterior[pp[0]], c[1],alpha=0.3,label=\"posterior-function1\")\n",
    "ax[1].plot(x, uni_sim_posterior[pp[1]], c[2],alpha=0.3,label=\"posterior-function2\")\n",
    "ax[1].plot(x, uni_sim_posterior[pp[2]], c[3],alpha=0.3,label=\"posterior-function3\")\n",
    "ax[1].plot(x, u_p_mean, 'r--',alpha=0.8, lw=2,label=\"mean of posterior simulations\")\n",
    "ax[1].plot(x,y,'g--',alpha=0.8,lw=2,label=\"Data generating function\")\n",
    "#ax[1].legend()\n",
    "\n",
    "\n",
    "#plt.subplot(413)\n",
    "ax[2].set_title('Derivative of posterior functions with Unimodal constraits')\n",
    "ax[2].plot(x, uni_sim_der[p[0]][leng+lendata:], 'c')\n",
    "ax[2].plot(x, uni_sim_der[p[1]][leng+lendata:], 'g')\n",
    "ax[2].plot(x, uni_sim_der[p[2]][leng+lendata:], 'b')\n",
    "ax[2].plot(plt.gca().get_xlim(),[0,0],'k--',alpha=0.3)\n",
    "ax[2].plot(x,np.mean(uni_sim_der[0:,leng+lendata:],axis=0),'r--',lw=2,label=\"Mean\" )\n",
    "\n",
    "#ax[2].legend()\n",
    "\n",
    "\n",
    "#ax[3].subplot(414,sharex=ax1)\n",
    "ax[3].set_title('Monotonic Gaussian process generating the slope parameter \\'m\\'')\n",
    "ax[3].plot(x, uni_sim_param[p[0]][:leng], 'c')\n",
    "ax[3].plot(x, uni_sim_param[p[1]][:leng], 'g')\n",
    "ax[3].plot(x, uni_sim_param[p[1]][:leng], 'b')\n",
    "ax[3].plot(plt.gca().get_xlim(),[0,0],'k--',alpha=0.3)\n",
    "ax[3].fill_between(x, np.percentile(uni_sim_param[0:,:leng],5,axis=0),np.percentile(uni_sim_param[0:,:leng],5,axis=0), color=\"#dddddd\")\n",
    "ax[3].plot(x,np.mean(uni_sim_param[0:,:leng],axis=0),'r--',lw=2,label=\"Mean\" )\n",
    "\n",
    "\n",
    "plt.savefig(\"./Fig/%s Posterior.png\"%(time.ctime()))\n",
    "plt.show()"
   ]
  },
  {
   "cell_type": "code",
   "execution_count": null,
   "metadata": {},
   "outputs": [],
   "source": [
    "\n"
   ]
  },
  {
   "cell_type": "code",
   "execution_count": null,
   "metadata": {},
   "outputs": [],
   "source": []
  },
  {
   "cell_type": "code",
   "execution_count": null,
   "metadata": {},
   "outputs": [],
   "source": []
  }
 ],
 "metadata": {
  "kernelspec": {
   "display_name": "Python 2",
   "language": "python",
   "name": "python2"
  },
  "language_info": {
   "codemirror_mode": {
    "name": "ipython",
    "version": 2
   },
   "file_extension": ".py",
   "mimetype": "text/x-python",
   "name": "python",
   "nbconvert_exporter": "python",
   "pygments_lexer": "ipython2",
   "version": "2.7.12"
  }
 },
 "nbformat": 4,
 "nbformat_minor": 2
}
