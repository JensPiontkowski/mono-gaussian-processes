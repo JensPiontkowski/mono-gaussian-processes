{
 "cells": [
  {
   "cell_type": "code",
   "execution_count": 1,
   "metadata": {},
   "outputs": [
    {
     "data": {
      "text/html": [
       "<style>.container { width:100% !important; }</style>"
      ],
      "text/plain": [
       "<IPython.core.display.HTML object>"
      ]
     },
     "metadata": {},
     "output_type": "display_data"
    }
   ],
   "source": [
    "from IPython.core.display import display, HTML\n",
    "display(HTML(\"<style>.container { width:100% !important; }</style>\"))"
   ]
  },
  {
   "cell_type": "code",
   "execution_count": 2,
   "metadata": {},
   "outputs": [],
   "source": [
    "import pystan\n",
    "import numpy as np\n",
    "import matplotlib.pyplot as plt\n",
    "import scipy\n",
    "from sklearn import preprocessing\n",
    "import pickle\n",
    "from hashlib import md5\n",
    "import time\n",
    "import os\n",
    "\n",
    "def StanModel_cache(model_code, model_name=None, **kwargs):\n",
    "    \"\"\"Use just as you would `stan`\"\"\"\n",
    "    path = \"../Stan files/pkl_cache\"\n",
    "    if(os.path.isdir(path)==False):\n",
    "        os.makedirs(path)\n",
    "    \n",
    "    code_hash = md5(model_code.encode('ascii')).hexdigest()\n",
    "    if model_name is None:\n",
    "        cache_fn = '{}/cached-model-{}.pkl'.format(path,code_hash)\n",
    "    else:\n",
    "        cache_fn = '{}/cached-{}-{}.pkl'.format(path,model_name, code_hash)\n",
    "    try:\n",
    "        sm = pickle.load(open(cache_fn, 'rb'))\n",
    "    except:\n",
    "        sm = pystan.StanModel(model_code=model_code,**kwargs)\n",
    "        with open(cache_fn, 'wb') as f:\n",
    "            pickle.dump(sm, f)\n",
    "    else:\n",
    "        print(\"Using cached StanModel\")\n",
    "    return sm"
   ]
  },
  {
   "cell_type": "markdown",
   "metadata": {
    "collapsed": true
   },
   "source": [
    "# Posterior "
   ]
  },
  {
   "cell_type": "code",
   "execution_count": 3,
   "metadata": {},
   "outputs": [
    {
     "name": "stdout",
     "output_type": "stream",
     "text": [
      "Using cached StanModel\n"
     ]
    }
   ],
   "source": [
    "GP_model = StanModel_cache(model_code=open(\"../../Stan files/posterior.stan\").read())"
   ]
  },
  {
   "cell_type": "code",
   "execution_count": 4,
   "metadata": {},
   "outputs": [
    {
     "name": "stdout",
     "output_type": "stream",
     "text": [
      "Using cached StanModel\n"
     ]
    }
   ],
   "source": [
    "linear_model = StanModel_cache(model_code=open(\"../../Stan files/posterior uni.stan\").read())"
   ]
  },
  {
   "cell_type": "code",
   "execution_count": 5,
   "metadata": {},
   "outputs": [
    {
     "name": "stdout",
     "output_type": "stream",
     "text": [
      "Using cached StanModel\n"
     ]
    }
   ],
   "source": [
    "suppGP_model = StanModel_cache(model_code=open(\"../../Stan files/posterior with support GP.stan\").read())\n"
   ]
  },
  {
   "cell_type": "code",
   "execution_count": 6,
   "metadata": {},
   "outputs": [
    {
     "name": "stdout",
     "output_type": "stream",
     "text": [
      "Using cached StanModel\n"
     ]
    }
   ],
   "source": [
    "suppGPlin_model = StanModel_cache(model_code=open(\"../../Stan files/posterior with support GP with linear mean.stan\").read())\n"
   ]
  },
  {
   "cell_type": "code",
   "execution_count": 7,
   "metadata": {
    "scrolled": true
   },
   "outputs": [
    {
     "data": {
      "image/png": "[encoded data removed]",
      "text/plain": [
       "<Figure size 432x288 with 1 Axes>"
      ]
     },
     "metadata": {},
     "output_type": "display_data"
    }
   ],
   "source": [
    "def gaussian(x, mu, sig):\n",
    "    return 1./(np.sqrt(2.*np.pi)*sig)*np.exp(-np.power((x - mu)/sig, 2.)/2)\n",
    "\n",
    "def func(x):\n",
    "    return 1-gaussian(x,0,4) #+ gaussian(x,-5,0.4)*0.05\n",
    "\n",
    "leng = 10\n",
    "lendata = 8\n",
    "#lenpred = 20\n",
    "\n",
    "xlong = np.linspace(-10,10,100)\n",
    "xdata = np.linspace(-10,10,lendata)\n",
    "ydata = func(xdata) + np.random.normal(0,0.005,size=len(xdata))\n",
    "x = np.linspace(-10,10,leng)\n",
    "y = func(x) \n",
    "ylong = func(xlong)\n",
    "#xpred = np.linspace(4,10,lenpred)\n",
    "ycombined = preprocessing.scale(np.append(np.append(ydata,y),ylong))\n",
    "ydata = ycombined[:len(xdata)]\n",
    "y = ycombined[len(xdata):-len(xlong)]\n",
    "ylong = ycombined[-len(xlong):]\n",
    "\n",
    "#  plt.figure(figsize=(10,10))\n",
    "\n",
    "\n",
    "plt.scatter(xdata,ydata,label=\"Data points\")\n",
    "plt.plot(xlong,ylong,'r--',alpha=0.5,label=\"Latent function\")\n",
    "plt.title('Input')\n",
    "\n",
    "plt.legend()\n",
    "# plt.savefig(\"./%s Input data points.png\"%(time.ctime()))\n",
    "\n",
    "plt.show()"
   ]
  },
  {
   "cell_type": "code",
   "execution_count": 8,
   "metadata": {},
   "outputs": [],
   "source": [
    "sig =0.1\n",
    "v= 0.1\n",
    "\n",
    "posterior_data = dict(\n",
    "    N = len(xdata),\n",
    "    x = xdata,\n",
    "    y = ydata,\n",
    "    N_prm = len(x),\n",
    "    x_prm = x,\n",
    "    sig_var = sig\n",
    ")\n",
    "\n",
    "uni_posterior_data = dict(\n",
    "    N = len(xdata),\n",
    "    x = xdata,\n",
    "    y = ydata,\n",
    "    N_g = len(x),\n",
    "    x_g = x,\n",
    "    m_m = np.ones_like(x,dtype=int),\n",
    "    N_prm = len(x),\n",
    "    x_prm = x,\n",
    "    v = v,\n",
    "    sig_var = sig\n",
    ")"
   ]
  },
  {
   "cell_type": "code",
   "execution_count": null,
   "metadata": {},
   "outputs": [],
   "source": []
  },
  {
   "cell_type": "code",
   "execution_count": 9,
   "metadata": {},
   "outputs": [
    {
     "name": "stderr",
     "output_type": "stream",
     "text": [
      "/u/26/pais2/unix/.conda/envs/stan_env/lib/python3.6/site-packages/pystan/misc.py:399: FutureWarning: Conversion of the second argument of issubdtype from `float` to `np.floating` is deprecated. In future, it will be treated as `np.float64 == np.dtype(float).type`.\n",
      "  elif np.issubdtype(np.asarray(v).dtype, float):\n"
     ]
    }
   ],
   "source": [
    "GP_fit = GP_model.sampling(data=posterior_data,iter=500,chains=2)\n"
   ]
  },
  {
   "cell_type": "code",
   "execution_count": 10,
   "metadata": {},
   "outputs": [
    {
     "name": "stderr",
     "output_type": "stream",
     "text": [
      "/u/26/pais2/unix/.conda/envs/stan_env/lib/python3.6/site-packages/pystan/misc.py:399: FutureWarning: Conversion of the second argument of issubdtype from `float` to `np.floating` is deprecated. In future, it will be treated as `np.float64 == np.dtype(float).type`.\n",
      "  elif np.issubdtype(np.asarray(v).dtype, float):\n"
     ]
    }
   ],
   "source": [
    "linear_fit = linear_model.sampling(data=uni_posterior_data,iter=500,chains=2)\n"
   ]
  },
  {
   "cell_type": "code",
   "execution_count": 11,
   "metadata": {},
   "outputs": [
    {
     "name": "stderr",
     "output_type": "stream",
     "text": [
      "/u/26/pais2/unix/.conda/envs/stan_env/lib/python3.6/site-packages/pystan/misc.py:399: FutureWarning: Conversion of the second argument of issubdtype from `float` to `np.floating` is deprecated. In future, it will be treated as `np.float64 == np.dtype(float).type`.\n",
      "  elif np.issubdtype(np.asarray(v).dtype, float):\n"
     ]
    }
   ],
   "source": [
    "suppGP_fit = suppGP_model.sampling(data=uni_posterior_data,iter=500,chains=2)\n"
   ]
  },
  {
   "cell_type": "code",
   "execution_count": 12,
   "metadata": {
    "scrolled": true
   },
   "outputs": [
    {
     "name": "stderr",
     "output_type": "stream",
     "text": [
      "/u/26/pais2/unix/.conda/envs/stan_env/lib/python3.6/site-packages/pystan/misc.py:399: FutureWarning: Conversion of the second argument of issubdtype from `float` to `np.floating` is deprecated. In future, it will be treated as `np.float64 == np.dtype(float).type`.\n",
      "  elif np.issubdtype(np.asarray(v).dtype, float):\n"
     ]
    }
   ],
   "source": [
    "suppGPlin_fit = suppGPlin_model.sampling(data=uni_posterior_data,iter=500,chains=2)\n"
   ]
  },
  {
   "cell_type": "code",
   "execution_count": 13,
   "metadata": {},
   "outputs": [],
   "source": [
    "linear_derv = np.mean(linear_fit.extract(permuted=True)['f'],axis=0)\n",
    "suppGP_derv = np.mean(suppGP_fit.extract(permuted=True)['f'],axis=0)\n",
    "suppGPlin_derv = np.mean(suppGPlin_fit.extract(permuted=True)['f'],axis=0)\n"
   ]
  },
  {
   "cell_type": "code",
   "execution_count": 14,
   "metadata": {},
   "outputs": [],
   "source": [
    "linear_m = np.mean(linear_fit.extract(permuted=True)['m'],axis=0)\n",
    "suppGP_m = np.mean(suppGP_fit.extract(permuted=True)['m'],axis=0)\n",
    "suppGPlin_m = np.mean(suppGPlin_fit.extract(permuted=True)['m'],axis=0)\n"
   ]
  },
  {
   "cell_type": "code",
   "execution_count": 15,
   "metadata": {},
   "outputs": [
    {
     "name": "stdout",
     "output_type": "stream",
     "text": [
      "(28,)\n"
     ]
    }
   ],
   "source": [
    "print(linear_derv.shape)"
   ]
  },
  {
   "cell_type": "code",
   "execution_count": 16,
   "metadata": {},
   "outputs": [
    {
     "name": "stdout",
     "output_type": "stream",
     "text": [
      "(20,)\n"
     ]
    }
   ],
   "source": [
    "print(suppGP_m.shape)"
   ]
  },
  {
   "cell_type": "code",
   "execution_count": 31,
   "metadata": {},
   "outputs": [
    {
     "data": {
      "image/png": "[encoded data removed]",
      "text/plain": [
       "<Figure size 432x648 with 3 Axes>"
      ]
     },
     "metadata": {},
     "output_type": "display_data"
    }
   ],
   "source": [
    "c = ['b', 'c', 'm', 'y']\n",
    "\n",
    "\n",
    "fig,ax = plt.subplots(3,1,sharex=True)\n",
    "fig.set_size_inches(6,9)\n",
    "ax[0].set_title('Input')\n",
    "ax[0].plot(xdata, ydata, 'bs', ms=4,label=\"Data points\")#  \n",
    "ax[0].plot(xlong,ylong,'r--',alpha=0.5,label=\"Latent function\")\n",
    "ax[0].legend()\n",
    "\n",
    "#plt.subplot(2,2,2)\n",
    "ax[1].set_title('Posterior derivative values $\\delta f$')\n",
    "ax[1].plot(x, linear_derv[-x.shape[0]:], c[1],alpha=0.5,label=\"Linear\")\n",
    "ax[1].plot(x, suppGP_derv[-x.shape[0]:], c[2],alpha=0.5,label=\"GP w/ zero mean\")\n",
    "ax[1].plot(x, suppGPlin_derv[-x.shape[0]:], c[3],alpha=0.5,label=\"GP w/ linear mean\")\n",
    "ax[1].plot(np.linspace(-10,10,10),np.zeros(10),'k--',alpha=0.3)\n",
    "ax[1].legend()\n",
    "\n",
    "\n",
    "\n",
    "ax[2].set_title('Posterior latent derivative function $m$')\n",
    "ax[2].plot(x, linear_m, c[1],alpha=0.5,label=\"Linear\")\n",
    "ax[2].plot(x, suppGP_m[:-x.shape[0]], c[2],alpha=0.5,label=\"GP w/ zero mean\")\n",
    "ax[2].plot(x, suppGPlin_m[:-x.shape[0]], c[3],alpha=0.5,label=\"GP w/ linear mean\")\n",
    "ax[2].plot(np.linspace(-10,10,10),np.zeros(10),'k--',alpha=0.3)\n",
    "\n",
    "ax[2].legend()\n",
    "plt.savefig(\"./monotonicity.png\")\n",
    "plt.show()"
   ]
  },
  {
   "cell_type": "code",
   "execution_count": null,
   "metadata": {},
   "outputs": [],
   "source": []
  },
  {
   "cell_type": "code",
   "execution_count": null,
   "metadata": {},
   "outputs": [],
   "source": []
  }
 ],
 "metadata": {
  "kernelspec": {
   "display_name": "Python 2",
   "language": "python",
   "name": "python2"
  },
  "language_info": {
   "codemirror_mode": {
    "name": "ipython",
    "version": 3
   },
   "file_extension": ".py",
   "mimetype": "text/x-python",
   "name": "python",
   "nbconvert_exporter": "python",
   "pygments_lexer": "ipython3",
   "version": "3.6.4"
  }
 },
 "nbformat": 4,
 "nbformat_minor": 2
}
